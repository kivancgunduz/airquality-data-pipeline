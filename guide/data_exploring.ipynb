{
 "cells": [
  {
   "cell_type": "markdown",
   "metadata": {},
   "source": [
    "Import Libraries"
   ]
  },
  {
   "cell_type": "code",
   "execution_count": 3,
   "metadata": {},
   "outputs": [],
   "source": [
    "import pandas as pd"
   ]
  },
  {
   "cell_type": "markdown",
   "metadata": {},
   "source": [
    "Read the data"
   ]
  },
  {
   "cell_type": "code",
   "execution_count": 6,
   "metadata": {},
   "outputs": [],
   "source": [
    "df = pd.read_csv(\"../spark_pipelines/airquality/resources/openaq-20220614122818.csv\")"
   ]
  },
  {
   "cell_type": "code",
   "execution_count": 7,
   "metadata": {},
   "outputs": [
    {
     "data": {
      "text/html": [
       "<div>\n",
       "<style scoped>\n",
       "    .dataframe tbody tr th:only-of-type {\n",
       "        vertical-align: middle;\n",
       "    }\n",
       "\n",
       "    .dataframe tbody tr th {\n",
       "        vertical-align: top;\n",
       "    }\n",
       "\n",
       "    .dataframe thead th {\n",
       "        text-align: right;\n",
       "    }\n",
       "</style>\n",
       "<table border=\"1\" class=\"dataframe\">\n",
       "  <thead>\n",
       "    <tr style=\"text-align: right;\">\n",
       "      <th></th>\n",
       "      <th>date</th>\n",
       "      <th>parameter</th>\n",
       "      <th>value</th>\n",
       "      <th>unit</th>\n",
       "      <th>averagingPeriod</th>\n",
       "      <th>location</th>\n",
       "      <th>city</th>\n",
       "      <th>country</th>\n",
       "      <th>coordinates</th>\n",
       "      <th>attribution</th>\n",
       "      <th>sourceName</th>\n",
       "      <th>sourceType</th>\n",
       "      <th>mobile</th>\n",
       "    </tr>\n",
       "  </thead>\n",
       "  <tbody>\n",
       "    <tr>\n",
       "      <th>0</th>\n",
       "      <td>{'utc': '2021-08-15T14:30:00.000Z', 'local': '...</td>\n",
       "      <td>pm25</td>\n",
       "      <td>-999.00</td>\n",
       "      <td>µg/m³</td>\n",
       "      <td>{'value': 1, 'unit': 'hours'}</td>\n",
       "      <td>US Diplomatic Post: Kabul</td>\n",
       "      <td>Kabul</td>\n",
       "      <td>AF</td>\n",
       "      <td>{'latitude': 34.535812, 'longitude': 69.190514}</td>\n",
       "      <td>[{'name': 'EPA AirNow DOS', 'url': 'http://air...</td>\n",
       "      <td>StateAir_Kabul</td>\n",
       "      <td>government</td>\n",
       "      <td>False</td>\n",
       "    </tr>\n",
       "    <tr>\n",
       "      <th>1</th>\n",
       "      <td>{'utc': '2021-08-15T15:30:00.000Z', 'local': '...</td>\n",
       "      <td>pm25</td>\n",
       "      <td>-999.00</td>\n",
       "      <td>µg/m³</td>\n",
       "      <td>{'value': 1, 'unit': 'hours'}</td>\n",
       "      <td>US Diplomatic Post: Kabul</td>\n",
       "      <td>Kabul</td>\n",
       "      <td>AF</td>\n",
       "      <td>{'latitude': 34.535812, 'longitude': 69.190514}</td>\n",
       "      <td>[{'name': 'EPA AirNow DOS', 'url': 'http://air...</td>\n",
       "      <td>StateAir_Kabul</td>\n",
       "      <td>government</td>\n",
       "      <td>False</td>\n",
       "    </tr>\n",
       "    <tr>\n",
       "      <th>2</th>\n",
       "      <td>{'utc': '2021-08-15T16:30:00.000Z', 'local': '...</td>\n",
       "      <td>pm25</td>\n",
       "      <td>-999.00</td>\n",
       "      <td>µg/m³</td>\n",
       "      <td>{'value': 1, 'unit': 'hours'}</td>\n",
       "      <td>US Diplomatic Post: Kabul</td>\n",
       "      <td>Kabul</td>\n",
       "      <td>AF</td>\n",
       "      <td>{'latitude': 34.535812, 'longitude': 69.190514}</td>\n",
       "      <td>[{'name': 'EPA AirNow DOS', 'url': 'http://air...</td>\n",
       "      <td>StateAir_Kabul</td>\n",
       "      <td>government</td>\n",
       "      <td>False</td>\n",
       "    </tr>\n",
       "    <tr>\n",
       "      <th>3</th>\n",
       "      <td>{'utc': '2021-08-15T17:30:00.000Z', 'local': '...</td>\n",
       "      <td>pm25</td>\n",
       "      <td>-999.00</td>\n",
       "      <td>µg/m³</td>\n",
       "      <td>{'value': 1, 'unit': 'hours'}</td>\n",
       "      <td>US Diplomatic Post: Kabul</td>\n",
       "      <td>Kabul</td>\n",
       "      <td>AF</td>\n",
       "      <td>{'latitude': 34.535812, 'longitude': 69.190514}</td>\n",
       "      <td>[{'name': 'EPA AirNow DOS', 'url': 'http://air...</td>\n",
       "      <td>StateAir_Kabul</td>\n",
       "      <td>government</td>\n",
       "      <td>False</td>\n",
       "    </tr>\n",
       "    <tr>\n",
       "      <th>4</th>\n",
       "      <td>{'utc': '2021-08-15T18:30:00.000Z', 'local': '...</td>\n",
       "      <td>pm25</td>\n",
       "      <td>-999.00</td>\n",
       "      <td>µg/m³</td>\n",
       "      <td>{'value': 1, 'unit': 'hours'}</td>\n",
       "      <td>US Diplomatic Post: Kabul</td>\n",
       "      <td>Kabul</td>\n",
       "      <td>AF</td>\n",
       "      <td>{'latitude': 34.535812, 'longitude': 69.190514}</td>\n",
       "      <td>[{'name': 'EPA AirNow DOS', 'url': 'http://air...</td>\n",
       "      <td>StateAir_Kabul</td>\n",
       "      <td>government</td>\n",
       "      <td>False</td>\n",
       "    </tr>\n",
       "    <tr>\n",
       "      <th>...</th>\n",
       "      <td>...</td>\n",
       "      <td>...</td>\n",
       "      <td>...</td>\n",
       "      <td>...</td>\n",
       "      <td>...</td>\n",
       "      <td>...</td>\n",
       "      <td>...</td>\n",
       "      <td>...</td>\n",
       "      <td>...</td>\n",
       "      <td>...</td>\n",
       "      <td>...</td>\n",
       "      <td>...</td>\n",
       "      <td>...</td>\n",
       "    </tr>\n",
       "    <tr>\n",
       "      <th>77268</th>\n",
       "      <td>{'utc': '2021-10-06T15:00:00.000Z', 'local': '...</td>\n",
       "      <td>no2</td>\n",
       "      <td>8.00</td>\n",
       "      <td>µg/m³</td>\n",
       "      <td>{'unit': 'hours', 'value': 1}</td>\n",
       "      <td>IT1924A</td>\n",
       "      <td>Piacenza</td>\n",
       "      <td>IT</td>\n",
       "      <td>{'latitude': 44.989444, 'longitude': 10.019167}</td>\n",
       "      <td>[{'name': 'EEA', 'url': 'http://www.eea.europa...</td>\n",
       "      <td>EEA Italy</td>\n",
       "      <td>government</td>\n",
       "      <td>False</td>\n",
       "    </tr>\n",
       "    <tr>\n",
       "      <th>77269</th>\n",
       "      <td>{'utc': '2021-10-06T16:00:00.000Z', 'local': '...</td>\n",
       "      <td>no2</td>\n",
       "      <td>16.04</td>\n",
       "      <td>µg/m³</td>\n",
       "      <td>{'unit': 'hours', 'value': 1}</td>\n",
       "      <td>IT2145A</td>\n",
       "      <td>Bari</td>\n",
       "      <td>IT</td>\n",
       "      <td>{'latitude': 41.08722, 'longitude': 16.78167}</td>\n",
       "      <td>[{'name': 'EEA', 'url': 'http://www.eea.europa...</td>\n",
       "      <td>EEA Italy</td>\n",
       "      <td>government</td>\n",
       "      <td>False</td>\n",
       "    </tr>\n",
       "    <tr>\n",
       "      <th>77270</th>\n",
       "      <td>{'utc': '2021-10-06T17:00:00.000Z', 'local': '...</td>\n",
       "      <td>no2</td>\n",
       "      <td>23.00</td>\n",
       "      <td>µg/m³</td>\n",
       "      <td>{'unit': 'hours', 'value': 1}</td>\n",
       "      <td>IT0872A</td>\n",
       "      <td>Frosinone</td>\n",
       "      <td>IT</td>\n",
       "      <td>{'latitude': 41.57, 'longitude': 13.33722}</td>\n",
       "      <td>[{'name': 'EEA', 'url': 'http://www.eea.europa...</td>\n",
       "      <td>EEA Italy</td>\n",
       "      <td>government</td>\n",
       "      <td>False</td>\n",
       "    </tr>\n",
       "    <tr>\n",
       "      <th>77271</th>\n",
       "      <td>{'utc': '2021-10-06T17:00:00.000Z', 'local': '...</td>\n",
       "      <td>no2</td>\n",
       "      <td>11.90</td>\n",
       "      <td>µg/m³</td>\n",
       "      <td>{'unit': 'hours', 'value': 1}</td>\n",
       "      <td>IT0459A</td>\n",
       "      <td>Ancona</td>\n",
       "      <td>IT</td>\n",
       "      <td>{'latitude': 43.59889, 'longitude': 13.34194}</td>\n",
       "      <td>[{'name': 'EEA', 'url': 'http://www.eea.europa...</td>\n",
       "      <td>EEA Italy</td>\n",
       "      <td>government</td>\n",
       "      <td>False</td>\n",
       "    </tr>\n",
       "    <tr>\n",
       "      <th>77272</th>\n",
       "      <td>{'utc': '2021-10-06T15:00:00.000Z', 'local': '...</td>\n",
       "      <td>no2</td>\n",
       "      <td>38.00</td>\n",
       "      <td>µg/m³</td>\n",
       "      <td>{'unit': 'hours', 'value': 1}</td>\n",
       "      <td>IT2156A</td>\n",
       "      <td>Reggio Nell'Emilia</td>\n",
       "      <td>IT</td>\n",
       "      <td>{'latitude': 44.700278, 'longitude': 10.622778}</td>\n",
       "      <td>[{'name': 'EEA', 'url': 'http://www.eea.europa...</td>\n",
       "      <td>EEA Italy</td>\n",
       "      <td>government</td>\n",
       "      <td>False</td>\n",
       "    </tr>\n",
       "  </tbody>\n",
       "</table>\n",
       "<p>77273 rows × 13 columns</p>\n",
       "</div>"
      ],
      "text/plain": [
       "                                                    date parameter   value  \\\n",
       "0      {'utc': '2021-08-15T14:30:00.000Z', 'local': '...      pm25 -999.00   \n",
       "1      {'utc': '2021-08-15T15:30:00.000Z', 'local': '...      pm25 -999.00   \n",
       "2      {'utc': '2021-08-15T16:30:00.000Z', 'local': '...      pm25 -999.00   \n",
       "3      {'utc': '2021-08-15T17:30:00.000Z', 'local': '...      pm25 -999.00   \n",
       "4      {'utc': '2021-08-15T18:30:00.000Z', 'local': '...      pm25 -999.00   \n",
       "...                                                  ...       ...     ...   \n",
       "77268  {'utc': '2021-10-06T15:00:00.000Z', 'local': '...       no2    8.00   \n",
       "77269  {'utc': '2021-10-06T16:00:00.000Z', 'local': '...       no2   16.04   \n",
       "77270  {'utc': '2021-10-06T17:00:00.000Z', 'local': '...       no2   23.00   \n",
       "77271  {'utc': '2021-10-06T17:00:00.000Z', 'local': '...       no2   11.90   \n",
       "77272  {'utc': '2021-10-06T15:00:00.000Z', 'local': '...       no2   38.00   \n",
       "\n",
       "        unit                averagingPeriod                   location  \\\n",
       "0      µg/m³  {'value': 1, 'unit': 'hours'}  US Diplomatic Post: Kabul   \n",
       "1      µg/m³  {'value': 1, 'unit': 'hours'}  US Diplomatic Post: Kabul   \n",
       "2      µg/m³  {'value': 1, 'unit': 'hours'}  US Diplomatic Post: Kabul   \n",
       "3      µg/m³  {'value': 1, 'unit': 'hours'}  US Diplomatic Post: Kabul   \n",
       "4      µg/m³  {'value': 1, 'unit': 'hours'}  US Diplomatic Post: Kabul   \n",
       "...      ...                            ...                        ...   \n",
       "77268  µg/m³  {'unit': 'hours', 'value': 1}                    IT1924A   \n",
       "77269  µg/m³  {'unit': 'hours', 'value': 1}                    IT2145A   \n",
       "77270  µg/m³  {'unit': 'hours', 'value': 1}                    IT0872A   \n",
       "77271  µg/m³  {'unit': 'hours', 'value': 1}                    IT0459A   \n",
       "77272  µg/m³  {'unit': 'hours', 'value': 1}                    IT2156A   \n",
       "\n",
       "                     city country  \\\n",
       "0                   Kabul      AF   \n",
       "1                   Kabul      AF   \n",
       "2                   Kabul      AF   \n",
       "3                   Kabul      AF   \n",
       "4                   Kabul      AF   \n",
       "...                   ...     ...   \n",
       "77268            Piacenza      IT   \n",
       "77269                Bari      IT   \n",
       "77270           Frosinone      IT   \n",
       "77271              Ancona      IT   \n",
       "77272  Reggio Nell'Emilia      IT   \n",
       "\n",
       "                                           coordinates  \\\n",
       "0      {'latitude': 34.535812, 'longitude': 69.190514}   \n",
       "1      {'latitude': 34.535812, 'longitude': 69.190514}   \n",
       "2      {'latitude': 34.535812, 'longitude': 69.190514}   \n",
       "3      {'latitude': 34.535812, 'longitude': 69.190514}   \n",
       "4      {'latitude': 34.535812, 'longitude': 69.190514}   \n",
       "...                                                ...   \n",
       "77268  {'latitude': 44.989444, 'longitude': 10.019167}   \n",
       "77269    {'latitude': 41.08722, 'longitude': 16.78167}   \n",
       "77270       {'latitude': 41.57, 'longitude': 13.33722}   \n",
       "77271    {'latitude': 43.59889, 'longitude': 13.34194}   \n",
       "77272  {'latitude': 44.700278, 'longitude': 10.622778}   \n",
       "\n",
       "                                             attribution      sourceName  \\\n",
       "0      [{'name': 'EPA AirNow DOS', 'url': 'http://air...  StateAir_Kabul   \n",
       "1      [{'name': 'EPA AirNow DOS', 'url': 'http://air...  StateAir_Kabul   \n",
       "2      [{'name': 'EPA AirNow DOS', 'url': 'http://air...  StateAir_Kabul   \n",
       "3      [{'name': 'EPA AirNow DOS', 'url': 'http://air...  StateAir_Kabul   \n",
       "4      [{'name': 'EPA AirNow DOS', 'url': 'http://air...  StateAir_Kabul   \n",
       "...                                                  ...             ...   \n",
       "77268  [{'name': 'EEA', 'url': 'http://www.eea.europa...       EEA Italy   \n",
       "77269  [{'name': 'EEA', 'url': 'http://www.eea.europa...       EEA Italy   \n",
       "77270  [{'name': 'EEA', 'url': 'http://www.eea.europa...       EEA Italy   \n",
       "77271  [{'name': 'EEA', 'url': 'http://www.eea.europa...       EEA Italy   \n",
       "77272  [{'name': 'EEA', 'url': 'http://www.eea.europa...       EEA Italy   \n",
       "\n",
       "       sourceType  mobile  \n",
       "0      government   False  \n",
       "1      government   False  \n",
       "2      government   False  \n",
       "3      government   False  \n",
       "4      government   False  \n",
       "...           ...     ...  \n",
       "77268  government   False  \n",
       "77269  government   False  \n",
       "77270  government   False  \n",
       "77271  government   False  \n",
       "77272  government   False  \n",
       "\n",
       "[77273 rows x 13 columns]"
      ]
     },
     "execution_count": 7,
     "metadata": {},
     "output_type": "execute_result"
    }
   ],
   "source": [
    "df"
   ]
  },
  {
   "cell_type": "code",
   "execution_count": 8,
   "metadata": {},
   "outputs": [
    {
     "data": {
      "text/plain": [
       "(77273, 13)"
      ]
     },
     "execution_count": 8,
     "metadata": {},
     "output_type": "execute_result"
    }
   ],
   "source": [
    "df.shape"
   ]
  },
  {
   "cell_type": "markdown",
   "metadata": {},
   "source": [
    "Explore the Parameter Column"
   ]
  },
  {
   "cell_type": "code",
   "execution_count": 9,
   "metadata": {},
   "outputs": [
    {
     "data": {
      "text/plain": [
       "array(['pm25', 'pm10', 'o3', 'no2', 'so2', 'co', 'bc'], dtype=object)"
      ]
     },
     "execution_count": 9,
     "metadata": {},
     "output_type": "execute_result"
    }
   ],
   "source": [
    "df.parameter.unique()"
   ]
  },
  {
   "cell_type": "code",
   "execution_count": 10,
   "metadata": {},
   "outputs": [
    {
     "data": {
      "text/plain": [
       "array(['AF', 'BH', 'BD', 'CI', 'CO', 'CR', 'EC', 'DZ', 'CW', 'ET', 'GT',\n",
       "       'GN', 'GH', 'ID', 'IN', 'SI', 'GB', 'TH', 'IQ', 'NO', 'MM', 'KZ',\n",
       "       'KW', 'PK', 'VN', 'UZ', 'XK', 'UG', 'CA', 'US', 'BK', 'CS', 'IZ',\n",
       "       'KG', 'LA', 'MA', 'MX', 'SU', 'TI', 'TX', 'AG', 'CH', 'BG', 'VM',\n",
       "       'KU', 'NP', 'PE', 'KV', 'IT', 'LU', 'CY', 'LV', 'CZ', 'PT', 'RO',\n",
       "       'RS', 'SE', 'ES', 'FI', 'FR', 'GR', 'HR', 'AD', 'SK', 'IE', 'MT',\n",
       "       'JO', 'SD', 'SA', 'TD', 'HU', 'MN', 'HK', 'NL', 'TJ', 'TM', 'MG',\n",
       "       'LK', 'ML', 'DK'], dtype=object)"
      ]
     },
     "execution_count": 10,
     "metadata": {},
     "output_type": "execute_result"
    }
   ],
   "source": [
    "df.country.unique()"
   ]
  },
  {
   "cell_type": "code",
   "execution_count": 13,
   "metadata": {},
   "outputs": [
    {
     "data": {
      "text/plain": [
       "count     77273.000000\n",
       "mean         19.363492\n",
       "std        1085.463393\n",
       "min        -999.000000\n",
       "25%           1.600000\n",
       "50%           8.600000\n",
       "75%          25.000000\n",
       "max      172822.000000\n",
       "Name: value, dtype: float64"
      ]
     },
     "execution_count": 13,
     "metadata": {},
     "output_type": "execute_result"
    }
   ],
   "source": [
    "df.value.describe()"
   ]
  },
  {
   "cell_type": "code",
   "execution_count": 15,
   "metadata": {},
   "outputs": [
    {
     "data": {
      "text/plain": [
       "{'utc': '2021-10-06T09:00:00.000Z', 'local': '2021-10-06T11:00:00+02:00'}"
      ]
     },
     "execution_count": 15,
     "metadata": {},
     "output_type": "execute_result"
    }
   ],
   "source": [
    "df.iloc[8010]['date']"
   ]
  },
  {
   "cell_type": "code",
   "execution_count": 19,
   "metadata": {},
   "outputs": [
    {
     "data": {
      "text/plain": [
       "date                object\n",
       "parameter           object\n",
       "value              float64\n",
       "unit                object\n",
       "averagingPeriod     object\n",
       "location            object\n",
       "city                object\n",
       "country             object\n",
       "coordinates         object\n",
       "attribution         object\n",
       "sourceName          object\n",
       "sourceType          object\n",
       "mobile                bool\n",
       "dtype: object"
      ]
     },
     "execution_count": 19,
     "metadata": {},
     "output_type": "execute_result"
    }
   ],
   "source": [
    "df.dtypes"
   ]
  },
  {
   "cell_type": "markdown",
   "metadata": {},
   "source": [
    "Calculating AQI Pm25 and Pm10 "
   ]
  },
  {
   "cell_type": "code",
   "execution_count": 1,
   "metadata": {},
   "outputs": [
    {
     "name": "stdout",
     "output_type": "stream",
     "text": [
      "70.76824034334764\n"
     ]
    }
   ],
   "source": [
    "def calculate_pm25_aqi(pm25: float) -> float:\n",
    "    \"\"\"\n",
    "    A function to calculate the AQI for PM25.\n",
    "    :param pm25: The PM25 value.\n",
    "    :return: The AQI for PM25.\n",
    "    \"\"\"\n",
    "    if pm25 <= 0:\n",
    "        return 0\n",
    "    elif 0 < pm25 <= 12:\n",
    "        return ((50 - 0) / (12 - 0) * (pm25 - 0)) + 0\n",
    "    elif 12.1 <= pm25 <= 35.4:\n",
    "        return ((100 - 51) / (35.4 - 12.1) * (pm25 - 12)) + 51\n",
    "    elif 35.5 <= pm25 <= 55.4:\n",
    "        return ((150 - 101) / (55.4 - 35.4) * (pm25 - 35.5)) + 101\n",
    "    elif 55.5 <= pm25 <= 150.4:\n",
    "        return ((200 - 151) / (150.4 - 55.5) * (pm25 - 55.5)) + 151\n",
    "    elif 150.5 <= pm25 <= 250.4:\n",
    "        return ((300 - 201) / (250.4 - 150.5) * (pm25 - 150.5)) + 201\n",
    "    elif 250.5 <= pm25 <= 350.4:\n",
    "        return ((400 - 301) / (350.4 - 250.5) * (pm25 - 250.5)) + 301\n",
    "    elif 350.5 < pm25 <= 500.4:\n",
    "        return ((500 - 401) / (500.4 - 350.5) * (pm25 - 350.5)) + 401\n",
    "    elif pm25 > 500.5:\n",
    "        return ((999 - 501) / (99999.9 - 500.5) * (pm25 - 500.5)) + 501\n",
    "\n",
    "print(calculate_pm25_aqi(21.4))"
   ]
  },
  {
   "cell_type": "code",
   "execution_count": 2,
   "metadata": {},
   "outputs": [
    {
     "name": "stdout",
     "output_type": "stream",
     "text": [
      "62.48282828282829\n"
     ]
    }
   ],
   "source": [
    "def calculate_pm10_aqi(pm10: float) -> float:\n",
    "    \"\"\"\n",
    "    A function to calculate the AQI for PM10.\n",
    "    :param pm10: The PM10 value.\n",
    "    :return: The AQI for PM10.\n",
    "    \"\"\"\n",
    "    if pm10 <= 0:\n",
    "        return 0\n",
    "    elif 0 < pm10 <= 54:\n",
    "        return ((50 - 0) / (54 - 0) * (pm10 - 0)) + 0\n",
    "    elif 55 <= pm10 <= 154:\n",
    "        return ((100 - 51) / (154 - 55) * (pm10 - 55)) + 51\n",
    "    elif 155 <= pm10 <= 254:\n",
    "        return ((150 - 101) / (254 - 155) * (pm10 - 155)) + 101\n",
    "    elif 255 <= pm10 <= 354:\n",
    "        return ((200 - 151) / (354 - 255) * (pm10 - 255)) + 151\n",
    "    elif 355 <= pm10 <= 424:\n",
    "        return ((300 - 201) / (424 - 355) * (pm10 - 355)) + 201\n",
    "    elif 425 <= pm10 <= 504:\n",
    "        return ((400 - 301) / (504 - 425) * (pm10 - 425)) + 301\n",
    "    elif 505 <= pm10 <= 604:\n",
    "        return ((500 - 401) / (604 - 505) * (pm10 - 505)) + 401\n",
    "    elif pm10 > 604:\n",
    "        ((999 - 501) / (99999.9 - 604) * (pm10 - 604)) + 501\n",
    "\n",
    "print(calculate_pm10_aqi(78.2))"
   ]
  }
 ],
 "metadata": {
  "interpreter": {
   "hash": "81794d4967e6c3204c66dcd87b604927b115b27c00565d3d43f05ba2f3a2cb0d"
  },
  "kernelspec": {
   "display_name": "Python 3.9.5 64-bit",
   "language": "python",
   "name": "python3"
  },
  "language_info": {
   "codemirror_mode": {
    "name": "ipython",
    "version": 3
   },
   "file_extension": ".py",
   "mimetype": "text/x-python",
   "name": "python",
   "nbconvert_exporter": "python",
   "pygments_lexer": "ipython3",
   "version": "3.9.5"
  },
  "orig_nbformat": 4
 },
 "nbformat": 4,
 "nbformat_minor": 2
}
